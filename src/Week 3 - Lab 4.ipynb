{
 "cells": [
  {
   "cell_type": "markdown",
   "metadata": {},
   "source": [
    "# Inner and Outer Joins"
   ]
  },
  {
   "cell_type": "markdown",
   "metadata": {},
   "source": [
    "### Connect to the database\n",
    "\n",
    "Let us first load the SQL extension and establish a connection with the database\n"
   ]
  },
  {
   "cell_type": "code",
   "execution_count": 2,
   "metadata": {},
   "outputs": [
    {
     "name": "stdout",
     "output_type": "stream",
     "text": [
      "The sql extension is already loaded. To reload it, use:\n",
      "  %reload_ext sql\n"
     ]
    }
   ],
   "source": [
    "import sqlalchemy\n",
    "import ibm_db_sa\n",
    "import pandas as pd\n",
    "\n",
    "%load_ext sql"
   ]
  },
  {
   "cell_type": "code",
   "execution_count": 3,
   "metadata": {},
   "outputs": [
    {
     "name": "stdout",
     "output_type": "stream",
     "text": [
      "DB2/LINUXX8664\n"
     ]
    },
    {
     "data": {
      "text/plain": [
       "'Connected: nhr87395@BLUDB'"
      ]
     },
     "execution_count": 3,
     "metadata": {},
     "output_type": "execute_result"
    }
   ],
   "source": [
    "connection_string = \"ibm_db_sa://nhr87395:n6k6mlj7x1f%408vs2@dashdb-txn-sbox-yp-lon02-13.services.eu-gb.bluemix.net:50000/BLUDB\"\n",
    "\n",
    "%sql $connection_string"
   ]
  },
  {
   "cell_type": "markdown",
   "metadata": {},
   "source": [
    "### HR Database  \n",
    "We will be working on a sample HR database. This HR database schema consists of 5 tables called EMPLOYEES, JOB_HISTORY, JOBS, DEPARTMENTS and LOCATIONS. \n",
    "\n",
    "The following diagram shows the tables for the HR database with a few rows of sample data.\n",
    "\n",
    "![](../data/hr_tables.jpg)"
   ]
  },
  {
   "cell_type": "markdown",
   "metadata": {},
   "source": [
    "### Query 1A: Select the names and job start dates of all employees who work for the department number 5."
   ]
  },
  {
   "cell_type": "code",
   "execution_count": 6,
   "metadata": {},
   "outputs": [
    {
     "name": "stdout",
     "output_type": "stream",
     "text": [
      " * ibm_db_sa://nhr87395:***@dashdb-txn-sbox-yp-lon02-13.services.eu-gb.bluemix.net:50000/BLUDB\n",
      "Done.\n"
     ]
    },
    {
     "data": {
      "text/html": [
       "<table>\n",
       "    <thead>\n",
       "        <tr>\n",
       "            <th>f_name</th>\n",
       "            <th>l_name</th>\n",
       "            <th>start_date</th>\n",
       "        </tr>\n",
       "    </thead>\n",
       "    <tbody>\n",
       "        <tr>\n",
       "            <td>Alice</td>\n",
       "            <td>James</td>\n",
       "            <td>2001-08-01</td>\n",
       "        </tr>\n",
       "        <tr>\n",
       "            <td>Steve</td>\n",
       "            <td>Wells</td>\n",
       "            <td>2001-08-16</td>\n",
       "        </tr>\n",
       "        <tr>\n",
       "            <td>Santosh</td>\n",
       "            <td>Kumar</td>\n",
       "            <td>2000-08-16</td>\n",
       "        </tr>\n",
       "        <tr>\n",
       "            <td>Ann</td>\n",
       "            <td>Jacob</td>\n",
       "            <td>2016-08-16</td>\n",
       "        </tr>\n",
       "    </tbody>\n",
       "</table>"
      ],
      "text/plain": [
       "[('Alice', 'James', datetime.date(2001, 8, 1)),\n",
       " ('Steve', 'Wells', datetime.date(2001, 8, 16)),\n",
       " ('Santosh', 'Kumar', datetime.date(2000, 8, 16)),\n",
       " ('Ann', 'Jacob', datetime.date(2016, 8, 16))]"
      ]
     },
     "execution_count": 6,
     "metadata": {},
     "output_type": "execute_result"
    }
   ],
   "source": [
    "%%sql select E.F_NAME, E.L_NAME, J.START_DATE\n",
    "        from (select * from EMPLOYEES where DEP_ID=5) E inner join JOB_HISTORY J\n",
    "        on E.EMP_ID = J.EMPL_ID\n",
    "    "
   ]
  },
  {
   "cell_type": "markdown",
   "metadata": {},
   "source": [
    "### Query 1B: Select the names, job start dates, and job titles of all employees who work for the department number 5.\n"
   ]
  },
  {
   "cell_type": "code",
   "execution_count": 7,
   "metadata": {},
   "outputs": [
    {
     "name": "stdout",
     "output_type": "stream",
     "text": [
      " * ibm_db_sa://nhr87395:***@dashdb-txn-sbox-yp-lon02-13.services.eu-gb.bluemix.net:50000/BLUDB\n",
      "Done.\n"
     ]
    },
    {
     "data": {
      "text/html": [
       "<table>\n",
       "    <thead>\n",
       "        <tr>\n",
       "            <th>f_name</th>\n",
       "            <th>l_name</th>\n",
       "            <th>start_date</th>\n",
       "            <th>job_title</th>\n",
       "        </tr>\n",
       "    </thead>\n",
       "    <tbody>\n",
       "        <tr>\n",
       "            <td>Alice</td>\n",
       "            <td>James</td>\n",
       "            <td>2001-08-01</td>\n",
       "            <td>Sr. Software Developer</td>\n",
       "        </tr>\n",
       "        <tr>\n",
       "            <td>Steve</td>\n",
       "            <td>Wells</td>\n",
       "            <td>2001-08-16</td>\n",
       "            <td>Jr.Software Developer</td>\n",
       "        </tr>\n",
       "        <tr>\n",
       "            <td>Santosh</td>\n",
       "            <td>Kumar</td>\n",
       "            <td>2000-08-16</td>\n",
       "            <td>Jr.Software Developer</td>\n",
       "        </tr>\n",
       "        <tr>\n",
       "            <td>Ann</td>\n",
       "            <td>Jacob</td>\n",
       "            <td>2016-08-16</td>\n",
       "            <td>Sr. Designer</td>\n",
       "        </tr>\n",
       "    </tbody>\n",
       "</table>"
      ],
      "text/plain": [
       "[('Alice', 'James', datetime.date(2001, 8, 1), 'Sr. Software Developer'),\n",
       " ('Steve', 'Wells', datetime.date(2001, 8, 16), 'Jr.Software Developer'),\n",
       " ('Santosh', 'Kumar', datetime.date(2000, 8, 16), 'Jr.Software Developer'),\n",
       " ('Ann', 'Jacob', datetime.date(2016, 8, 16), 'Sr. Designer')]"
      ]
     },
     "execution_count": 7,
     "metadata": {},
     "output_type": "execute_result"
    }
   ],
   "source": [
    "%%sql select E.F_NAME, E.L_NAME, J.START_DATE, T.JOB_TITLE\n",
    "        from (select * from EMPLOYEES where DEP_ID=5) E \n",
    "        inner join JOB_HISTORY J on E.EMP_ID = J.EMPL_ID\n",
    "        inner join JOBS T on E.JOB_ID = T.JOB_IDENT\n",
    "    "
   ]
  },
  {
   "cell_type": "markdown",
   "metadata": {},
   "source": [
    "### Query 2A: Perform a Left Outer Join on the EMPLOYEES and DEPARTMENTS tables and select employee id, last name, department id and department name for all employees.\n"
   ]
  },
  {
   "cell_type": "code",
   "execution_count": 12,
   "metadata": {},
   "outputs": [
    {
     "name": "stdout",
     "output_type": "stream",
     "text": [
      " * ibm_db_sa://nhr87395:***@dashdb-txn-sbox-yp-lon02-13.services.eu-gb.bluemix.net:50000/BLUDB\n",
      "Done.\n"
     ]
    },
    {
     "data": {
      "text/html": [
       "<table>\n",
       "    <thead>\n",
       "        <tr>\n",
       "            <th>emp_id</th>\n",
       "            <th>l_name</th>\n",
       "            <th>dep_id</th>\n",
       "            <th>dep_name</th>\n",
       "        </tr>\n",
       "    </thead>\n",
       "    <tbody>\n",
       "        <tr>\n",
       "            <td>E1001    </td>\n",
       "            <td>Thomas</td>\n",
       "            <td>2        </td>\n",
       "            <td>Architect Group</td>\n",
       "        </tr>\n",
       "        <tr>\n",
       "            <td>E1002    </td>\n",
       "            <td>James</td>\n",
       "            <td>5        </td>\n",
       "            <td>Software Group</td>\n",
       "        </tr>\n",
       "        <tr>\n",
       "            <td>E1003    </td>\n",
       "            <td>Wells</td>\n",
       "            <td>5        </td>\n",
       "            <td>Software Group</td>\n",
       "        </tr>\n",
       "        <tr>\n",
       "            <td>E1004    </td>\n",
       "            <td>Kumar</td>\n",
       "            <td>5        </td>\n",
       "            <td>Software Group</td>\n",
       "        </tr>\n",
       "        <tr>\n",
       "            <td>E1005    </td>\n",
       "            <td>Hussain</td>\n",
       "            <td>2        </td>\n",
       "            <td>Architect Group</td>\n",
       "        </tr>\n",
       "        <tr>\n",
       "            <td>E1006    </td>\n",
       "            <td>Allen</td>\n",
       "            <td>2        </td>\n",
       "            <td>Architect Group</td>\n",
       "        </tr>\n",
       "        <tr>\n",
       "            <td>E1007    </td>\n",
       "            <td>Thomas</td>\n",
       "            <td>7        </td>\n",
       "            <td>Design Team</td>\n",
       "        </tr>\n",
       "        <tr>\n",
       "            <td>E1008    </td>\n",
       "            <td>Gupta</td>\n",
       "            <td>7        </td>\n",
       "            <td>Design Team</td>\n",
       "        </tr>\n",
       "        <tr>\n",
       "            <td>E1009    </td>\n",
       "            <td>Jones</td>\n",
       "            <td>7        </td>\n",
       "            <td>Design Team</td>\n",
       "        </tr>\n",
       "        <tr>\n",
       "            <td>E1010    </td>\n",
       "            <td>Jacob</td>\n",
       "            <td>5        </td>\n",
       "            <td>Software Group</td>\n",
       "        </tr>\n",
       "    </tbody>\n",
       "</table>"
      ],
      "text/plain": [
       "[('E1001    ', 'Thomas', '2        ', 'Architect Group'),\n",
       " ('E1002    ', 'James', '5        ', 'Software Group'),\n",
       " ('E1003    ', 'Wells', '5        ', 'Software Group'),\n",
       " ('E1004    ', 'Kumar', '5        ', 'Software Group'),\n",
       " ('E1005    ', 'Hussain', '2        ', 'Architect Group'),\n",
       " ('E1006    ', 'Allen', '2        ', 'Architect Group'),\n",
       " ('E1007    ', 'Thomas', '7        ', 'Design Team'),\n",
       " ('E1008    ', 'Gupta', '7        ', 'Design Team'),\n",
       " ('E1009    ', 'Jones', '7        ', 'Design Team'),\n",
       " ('E1010    ', 'Jacob', '5        ', 'Software Group')]"
      ]
     },
     "execution_count": 12,
     "metadata": {},
     "output_type": "execute_result"
    }
   ],
   "source": [
    "%%sql select E.EMP_ID, E.L_NAME, E.DEP_ID, D.DEP_NAME\n",
    "        from EMPLOYEES E left join DEPARTMENTS D\n",
    "        on E.DEP_ID = D.DEPT_ID_DEP\n"
   ]
  },
  {
   "cell_type": "markdown",
   "metadata": {},
   "source": [
    "### Query 2B: Re-write the query for 2A to limit the result set to include only the rows for employees born before 1980.\n"
   ]
  },
  {
   "cell_type": "code",
   "execution_count": 19,
   "metadata": {},
   "outputs": [
    {
     "name": "stdout",
     "output_type": "stream",
     "text": [
      " * ibm_db_sa://nhr87395:***@dashdb-txn-sbox-yp-lon02-13.services.eu-gb.bluemix.net:50000/BLUDB\n",
      "Done.\n"
     ]
    },
    {
     "data": {
      "text/html": [
       "<table>\n",
       "    <thead>\n",
       "        <tr>\n",
       "            <th>emp_id</th>\n",
       "            <th>l_name</th>\n",
       "            <th>dep_id</th>\n",
       "            <th>dep_name</th>\n",
       "        </tr>\n",
       "    </thead>\n",
       "    <tbody>\n",
       "        <tr>\n",
       "            <td>E1001    </td>\n",
       "            <td>Thomas</td>\n",
       "            <td>2        </td>\n",
       "            <td>Architect Group</td>\n",
       "        </tr>\n",
       "        <tr>\n",
       "            <td>E1002    </td>\n",
       "            <td>James</td>\n",
       "            <td>5        </td>\n",
       "            <td>Software Group</td>\n",
       "        </tr>\n",
       "        <tr>\n",
       "            <td>E1006    </td>\n",
       "            <td>Allen</td>\n",
       "            <td>2        </td>\n",
       "            <td>Architect Group</td>\n",
       "        </tr>\n",
       "        <tr>\n",
       "            <td>E1007    </td>\n",
       "            <td>Thomas</td>\n",
       "            <td>7        </td>\n",
       "            <td>Design Team</td>\n",
       "        </tr>\n",
       "    </tbody>\n",
       "</table>"
      ],
      "text/plain": [
       "[('E1001    ', 'Thomas', '2        ', 'Architect Group'),\n",
       " ('E1002    ', 'James', '5        ', 'Software Group'),\n",
       " ('E1006    ', 'Allen', '2        ', 'Architect Group'),\n",
       " ('E1007    ', 'Thomas', '7        ', 'Design Team')]"
      ]
     },
     "execution_count": 19,
     "metadata": {},
     "output_type": "execute_result"
    }
   ],
   "source": [
    "%%sql select E.EMP_ID, E.L_NAME, E.DEP_ID, D.DEP_NAME\n",
    "        from EMPLOYEES E left join DEPARTMENTS D on E.DEP_ID = D.DEPT_ID_DEP\n",
    "        where year(E.B_DATE) < 1980\n",
    "        "
   ]
  },
  {
   "cell_type": "markdown",
   "metadata": {},
   "source": [
    "### Query 2C: Re-write the query for 2A to have the result set include all the employees but department names for only the employees who were born before 1980.\n"
   ]
  },
  {
   "cell_type": "code",
   "execution_count": 20,
   "metadata": {},
   "outputs": [
    {
     "name": "stdout",
     "output_type": "stream",
     "text": [
      " * ibm_db_sa://nhr87395:***@dashdb-txn-sbox-yp-lon02-13.services.eu-gb.bluemix.net:50000/BLUDB\n",
      "Done.\n"
     ]
    },
    {
     "data": {
      "text/html": [
       "<table>\n",
       "    <thead>\n",
       "        <tr>\n",
       "            <th>emp_id</th>\n",
       "            <th>l_name</th>\n",
       "            <th>dep_id</th>\n",
       "            <th>dep_name</th>\n",
       "        </tr>\n",
       "    </thead>\n",
       "    <tbody>\n",
       "        <tr>\n",
       "            <td>E1001    </td>\n",
       "            <td>Thomas</td>\n",
       "            <td>2        </td>\n",
       "            <td>Architect Group</td>\n",
       "        </tr>\n",
       "        <tr>\n",
       "            <td>E1002    </td>\n",
       "            <td>James</td>\n",
       "            <td>5        </td>\n",
       "            <td>Software Group</td>\n",
       "        </tr>\n",
       "        <tr>\n",
       "            <td>E1003    </td>\n",
       "            <td>Wells</td>\n",
       "            <td>5        </td>\n",
       "            <td>None</td>\n",
       "        </tr>\n",
       "        <tr>\n",
       "            <td>E1004    </td>\n",
       "            <td>Kumar</td>\n",
       "            <td>5        </td>\n",
       "            <td>None</td>\n",
       "        </tr>\n",
       "        <tr>\n",
       "            <td>E1005    </td>\n",
       "            <td>Hussain</td>\n",
       "            <td>2        </td>\n",
       "            <td>None</td>\n",
       "        </tr>\n",
       "        <tr>\n",
       "            <td>E1006    </td>\n",
       "            <td>Allen</td>\n",
       "            <td>2        </td>\n",
       "            <td>Architect Group</td>\n",
       "        </tr>\n",
       "        <tr>\n",
       "            <td>E1007    </td>\n",
       "            <td>Thomas</td>\n",
       "            <td>7        </td>\n",
       "            <td>Design Team</td>\n",
       "        </tr>\n",
       "        <tr>\n",
       "            <td>E1008    </td>\n",
       "            <td>Gupta</td>\n",
       "            <td>7        </td>\n",
       "            <td>None</td>\n",
       "        </tr>\n",
       "        <tr>\n",
       "            <td>E1009    </td>\n",
       "            <td>Jones</td>\n",
       "            <td>7        </td>\n",
       "            <td>None</td>\n",
       "        </tr>\n",
       "        <tr>\n",
       "            <td>E1010    </td>\n",
       "            <td>Jacob</td>\n",
       "            <td>5        </td>\n",
       "            <td>None</td>\n",
       "        </tr>\n",
       "    </tbody>\n",
       "</table>"
      ],
      "text/plain": [
       "[('E1001    ', 'Thomas', '2        ', 'Architect Group'),\n",
       " ('E1002    ', 'James', '5        ', 'Software Group'),\n",
       " ('E1003    ', 'Wells', '5        ', None),\n",
       " ('E1004    ', 'Kumar', '5        ', None),\n",
       " ('E1005    ', 'Hussain', '2        ', None),\n",
       " ('E1006    ', 'Allen', '2        ', 'Architect Group'),\n",
       " ('E1007    ', 'Thomas', '7        ', 'Design Team'),\n",
       " ('E1008    ', 'Gupta', '7        ', None),\n",
       " ('E1009    ', 'Jones', '7        ', None),\n",
       " ('E1010    ', 'Jacob', '5        ', None)]"
      ]
     },
     "execution_count": 20,
     "metadata": {},
     "output_type": "execute_result"
    }
   ],
   "source": [
    "%%sql select E.EMP_ID, E.L_NAME, E.DEP_ID, D.DEP_NAME\n",
    "        from EMPLOYEES E left join DEPARTMENTS D\n",
    "        on E.DEP_ID = D.DEPT_ID_DEP and year(E.B_DATE) < 1980\n",
    "         "
   ]
  },
  {
   "cell_type": "markdown",
   "metadata": {},
   "source": [
    "### Query 3A: Perform a Full Join on the EMPLOYEES and DEPARTMENT tables and select the First name, Last name and Department name of all employees.\n"
   ]
  },
  {
   "cell_type": "code",
   "execution_count": 21,
   "metadata": {},
   "outputs": [
    {
     "name": "stdout",
     "output_type": "stream",
     "text": [
      " * ibm_db_sa://nhr87395:***@dashdb-txn-sbox-yp-lon02-13.services.eu-gb.bluemix.net:50000/BLUDB\n",
      "Done.\n"
     ]
    },
    {
     "data": {
      "text/html": [
       "<table>\n",
       "    <thead>\n",
       "        <tr>\n",
       "            <th>f_name</th>\n",
       "            <th>l_name</th>\n",
       "            <th>dep_name</th>\n",
       "        </tr>\n",
       "    </thead>\n",
       "    <tbody>\n",
       "        <tr>\n",
       "            <td>John</td>\n",
       "            <td>Thomas</td>\n",
       "            <td>Architect Group</td>\n",
       "        </tr>\n",
       "        <tr>\n",
       "            <td>Alice</td>\n",
       "            <td>James</td>\n",
       "            <td>Software Group</td>\n",
       "        </tr>\n",
       "        <tr>\n",
       "            <td>Steve</td>\n",
       "            <td>Wells</td>\n",
       "            <td>Software Group</td>\n",
       "        </tr>\n",
       "        <tr>\n",
       "            <td>Santosh</td>\n",
       "            <td>Kumar</td>\n",
       "            <td>Software Group</td>\n",
       "        </tr>\n",
       "        <tr>\n",
       "            <td>Ahmed</td>\n",
       "            <td>Hussain</td>\n",
       "            <td>Architect Group</td>\n",
       "        </tr>\n",
       "        <tr>\n",
       "            <td>Nancy</td>\n",
       "            <td>Allen</td>\n",
       "            <td>Architect Group</td>\n",
       "        </tr>\n",
       "        <tr>\n",
       "            <td>Mary</td>\n",
       "            <td>Thomas</td>\n",
       "            <td>Design Team</td>\n",
       "        </tr>\n",
       "        <tr>\n",
       "            <td>Bharath</td>\n",
       "            <td>Gupta</td>\n",
       "            <td>Design Team</td>\n",
       "        </tr>\n",
       "        <tr>\n",
       "            <td>Andrea</td>\n",
       "            <td>Jones</td>\n",
       "            <td>Design Team</td>\n",
       "        </tr>\n",
       "        <tr>\n",
       "            <td>Ann</td>\n",
       "            <td>Jacob</td>\n",
       "            <td>Software Group</td>\n",
       "        </tr>\n",
       "    </tbody>\n",
       "</table>"
      ],
      "text/plain": [
       "[('John', 'Thomas', 'Architect Group'),\n",
       " ('Alice', 'James', 'Software Group'),\n",
       " ('Steve', 'Wells', 'Software Group'),\n",
       " ('Santosh', 'Kumar', 'Software Group'),\n",
       " ('Ahmed', 'Hussain', 'Architect Group'),\n",
       " ('Nancy', 'Allen', 'Architect Group'),\n",
       " ('Mary', 'Thomas', 'Design Team'),\n",
       " ('Bharath', 'Gupta', 'Design Team'),\n",
       " ('Andrea', 'Jones', 'Design Team'),\n",
       " ('Ann', 'Jacob', 'Software Group')]"
      ]
     },
     "execution_count": 21,
     "metadata": {},
     "output_type": "execute_result"
    }
   ],
   "source": [
    "%%sql select E.F_NAME, E.L_NAME, D.DEP_NAME\n",
    "        from EMPLOYEES E full join DEPARTMENTS D\n",
    "        on E.DEP_ID = D.DEPT_ID_DEP\n",
    "         "
   ]
  },
  {
   "cell_type": "markdown",
   "metadata": {},
   "source": [
    "### Query 3B: Re-write Query 3A to have the result set include all employee names but department id and department names only for male employees.\n"
   ]
  },
  {
   "cell_type": "code",
   "execution_count": 23,
   "metadata": {},
   "outputs": [
    {
     "name": "stdout",
     "output_type": "stream",
     "text": [
      " * ibm_db_sa://nhr87395:***@dashdb-txn-sbox-yp-lon02-13.services.eu-gb.bluemix.net:50000/BLUDB\n",
      "Done.\n"
     ]
    },
    {
     "data": {
      "text/html": [
       "<table>\n",
       "    <thead>\n",
       "        <tr>\n",
       "            <th>f_name</th>\n",
       "            <th>l_name</th>\n",
       "            <th>dept_id_dep</th>\n",
       "            <th>dep_name</th>\n",
       "        </tr>\n",
       "    </thead>\n",
       "    <tbody>\n",
       "        <tr>\n",
       "            <td>John</td>\n",
       "            <td>Thomas</td>\n",
       "            <td>2        </td>\n",
       "            <td>Architect Group</td>\n",
       "        </tr>\n",
       "        <tr>\n",
       "            <td>Alice</td>\n",
       "            <td>James</td>\n",
       "            <td>None</td>\n",
       "            <td>None</td>\n",
       "        </tr>\n",
       "        <tr>\n",
       "            <td>Steve</td>\n",
       "            <td>Wells</td>\n",
       "            <td>5        </td>\n",
       "            <td>Software Group</td>\n",
       "        </tr>\n",
       "        <tr>\n",
       "            <td>Santosh</td>\n",
       "            <td>Kumar</td>\n",
       "            <td>5        </td>\n",
       "            <td>Software Group</td>\n",
       "        </tr>\n",
       "        <tr>\n",
       "            <td>Ahmed</td>\n",
       "            <td>Hussain</td>\n",
       "            <td>2        </td>\n",
       "            <td>Architect Group</td>\n",
       "        </tr>\n",
       "        <tr>\n",
       "            <td>Nancy</td>\n",
       "            <td>Allen</td>\n",
       "            <td>None</td>\n",
       "            <td>None</td>\n",
       "        </tr>\n",
       "        <tr>\n",
       "            <td>Mary</td>\n",
       "            <td>Thomas</td>\n",
       "            <td>None</td>\n",
       "            <td>None</td>\n",
       "        </tr>\n",
       "        <tr>\n",
       "            <td>Bharath</td>\n",
       "            <td>Gupta</td>\n",
       "            <td>7        </td>\n",
       "            <td>Design Team</td>\n",
       "        </tr>\n",
       "        <tr>\n",
       "            <td>Andrea</td>\n",
       "            <td>Jones</td>\n",
       "            <td>None</td>\n",
       "            <td>None</td>\n",
       "        </tr>\n",
       "        <tr>\n",
       "            <td>Ann</td>\n",
       "            <td>Jacob</td>\n",
       "            <td>None</td>\n",
       "            <td>None</td>\n",
       "        </tr>\n",
       "    </tbody>\n",
       "</table>"
      ],
      "text/plain": [
       "[('John', 'Thomas', '2        ', 'Architect Group'),\n",
       " ('Alice', 'James', None, None),\n",
       " ('Steve', 'Wells', '5        ', 'Software Group'),\n",
       " ('Santosh', 'Kumar', '5        ', 'Software Group'),\n",
       " ('Ahmed', 'Hussain', '2        ', 'Architect Group'),\n",
       " ('Nancy', 'Allen', None, None),\n",
       " ('Mary', 'Thomas', None, None),\n",
       " ('Bharath', 'Gupta', '7        ', 'Design Team'),\n",
       " ('Andrea', 'Jones', None, None),\n",
       " ('Ann', 'Jacob', None, None)]"
      ]
     },
     "execution_count": 23,
     "metadata": {},
     "output_type": "execute_result"
    }
   ],
   "source": [
    "%%sql select E.F_NAME, E.L_NAME, D.DEPT_ID_DEP, D.DEP_NAME\n",
    "        from EMPLOYEES E left join DEPARTMENTS D\n",
    "        on E.DEP_ID = D.DEPT_ID_DEP and E.SEX = 'M'"
   ]
  },
  {
   "cell_type": "code",
   "execution_count": null,
   "metadata": {},
   "outputs": [],
   "source": []
  }
 ],
 "metadata": {
  "kernelspec": {
   "display_name": "Python 3",
   "language": "python",
   "name": "python3"
  },
  "language_info": {
   "codemirror_mode": {
    "name": "ipython",
    "version": 3
   },
   "file_extension": ".py",
   "mimetype": "text/x-python",
   "name": "python",
   "nbconvert_exporter": "python",
   "pygments_lexer": "ipython3",
   "version": "3.7.9"
  }
 },
 "nbformat": 4,
 "nbformat_minor": 4
}
